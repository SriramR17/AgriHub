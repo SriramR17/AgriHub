{
 "cells": [
  {
   "cell_type": "code",
   "execution_count": 11,
   "metadata": {},
   "outputs": [],
   "source": [
    "from langchain_community.document_loaders import WebBaseLoader"
   ]
  },
  {
   "cell_type": "code",
   "execution_count": 12,
   "metadata": {},
   "outputs": [
    {
     "data": {
      "text/plain": [
       "[Document(metadata={'source': 'https://www.breedr.co/news/what-are-the-new-farming-techniques', 'title': 'What are the new farming techniques for 2022 and beyond?', 'description': 'What are the new farming techniques? And how can they make your farm more sustainable? We take a look in this blog.', 'language': 'en'}, page_content=\"\\n\\nWhat are the new farming techniques for 2022 and beyond?\\n\\n\\n\\n\\n\\n\\n\\n\\n\\n\\n\\n\\n\\n\\n\\n\\n\\n\\n\\n\\n\\n\\n\\n\\n\\n\\n\\n\\n\\n\\n\\n\\n\\n\\n\\n\\n\\n\\n\\n\\nSkip to content\\n\\n\\n\\n\\n\\n\\n\\n\\n\\n\\n\\n\\n\\n\\n\\n\\n\\n\\n\\n\\n\\nLog In\\nShop\\nSupport\\nContact Us\\n\\n\\n\\n\\n\\n\\n\\n\\n\\n\\n\\n\\n\\n\\n\\n\\n\\n\\n\\n\\n\\n\\n\\n\\n\\n\\n\\n\\n\\n\\n\\n\\n\\t\\t\\t\\t\\t\\t\\tSolutions\\n\\t\\t\\t\\t\\t\\t\\t\\n\\t\\t\\t\\t\\t\\t\\t\\n\\n\\n\\n\\n\\n\\n\\n\\nBreedr Tools\\n\\n\\n\\n\\t\\t\\t\\t\\t\\t\\t\\t\\t\\t\\t\\tLivestock App\\n\\t\\t\\t\\t\\t\\t\\t\\t\\t\\t\\t\\n\\n\\n\\n\\nFarm System\\n\\n\\n\\n\\t\\t\\t\\t\\t\\t\\t\\t\\t\\t\\t\\tSuckler\\n\\t\\t\\t\\t\\t\\t\\t\\t\\t\\t\\t\\n\\n\\n\\n\\t\\t\\t\\t\\t\\t\\t\\t\\t\\t\\t\\tFinisher\\n\\t\\t\\t\\t\\t\\t\\t\\t\\t\\t\\t\\n\\n\\n\\n\\t\\t\\t\\t\\t\\t\\t\\t\\t\\t\\t\\tRearer\\n\\t\\t\\t\\t\\t\\t\\t\\t\\t\\t\\t\\n\\n\\n\\n\\t\\t\\t\\t\\t\\t\\t\\t\\t\\t\\t\\tSheep\\n\\t\\t\\t\\t\\t\\t\\t\\t\\t\\t\\t\\n\\n\\n\\n\\n\\n\\n\\n\\t\\t\\t\\t\\t\\t\\tSustainable Supply Chains\\n\\t\\t\\t\\t\\t\\t\\t\\n\\t\\t\\t\\t\\t\\t\\t\\n\\n\\n\\n\\n\\n\\n\\n\\nSustainable Supply Chains\\n\\n\\n\\n\\t\\t\\t\\t\\t\\t\\t\\t\\t\\t\\t\\tGrass Fed\\n\\t\\t\\t\\t\\t\\t\\t\\t\\t\\t\\t\\n\\n\\n\\n\\t\\t\\t\\t\\t\\t\\t\\t\\t\\t\\t\\tDairy Beef\\n\\t\\t\\t\\t\\t\\t\\t\\t\\t\\t\\t\\n\\n\\n\\n\\n\\n\\n\\n\\n\\n\\n\\n\\n\\n\\n\\n\\n\\t\\t\\t\\t\\t\\t\\tAbout Us\\n\\t\\t\\t\\t\\t\\t\\t\\n\\t\\t\\t\\t\\t\\t\\t\\n\\n\\n\\n\\n\\n\\n\\n\\nAbout Us\\n\\n\\n\\n\\t\\t\\t\\t\\t\\t\\t\\t\\t\\t\\t\\tVision and Team\\n\\t\\t\\t\\t\\t\\t\\t\\t\\t\\t\\t\\n\\n\\n\\n\\t\\t\\t\\t\\t\\t\\t\\t\\t\\t\\t\\tCareers\\n\\t\\t\\t\\t\\t\\t\\t\\t\\t\\t\\t\\n\\n\\n\\n\\t\\t\\t\\t\\t\\t\\t\\t\\t\\t\\t\\tOur Farmers\\n\\t\\t\\t\\t\\t\\t\\t\\t\\t\\t\\t\\n\\n\\n\\n\\t\\t\\t\\t\\t\\t\\t\\t\\t\\t\\t\\tEvents\\n\\t\\t\\t\\t\\t\\t\\t\\t\\t\\t\\t\\n\\n\\n\\n\\t\\t\\t\\t\\t\\t\\t\\t\\t\\t\\t\\tRefer a Friend\\n\\t\\t\\t\\t\\t\\t\\t\\t\\t\\t\\t\\n\\n\\n\\n\\n\\n\\n\\n\\n\\n\\n\\n\\n\\n\\n\\n\\n\\t\\t\\t\\t\\t\\t\\tNews\\n\\t\\t\\t\\t\\t\\t\\t\\n\\t\\t\\t\\t\\t\\t\\t\\n\\n\\n\\n\\n\\n\\n\\n\\nNews\\n\\n\\n\\n\\t\\t\\t\\t\\t\\t\\t\\t\\t\\t\\t\\tLatest News and Insights\\n\\t\\t\\t\\t\\t\\t\\t\\t\\t\\t\\t\\n\\n\\n\\n\\n\\n\\n\\n\\n\\n\\n\\n\\n\\n\\n\\n\\n\\n\\n\\t\\t\\t\\t\\t\\t\\tPricing\\n\\t\\t\\t\\t\\t\\t\\n\\n\\n\\n\\n\\nLog In\\nShop\\nSupport\\nContact Us\\n\\n\\n\\n\\n\\n\\n\\n\\n\\t\\t\\t\\t\\t\\t\\tSolutions\\n\\t\\t\\t\\t\\t\\t\\n\\n\\n\\n\\nBreedr Tools\\n\\n\\n\\n\\t\\t\\t\\t\\t\\t\\t\\t\\t\\t\\t\\tLivestock App\\n\\t\\t\\t\\t\\t\\t\\t\\t\\t\\t\\t\\n\\n\\n\\n\\nFarm System\\n\\n\\n\\n\\t\\t\\t\\t\\t\\t\\t\\t\\t\\t\\t\\tSuckler\\n\\t\\t\\t\\t\\t\\t\\t\\t\\t\\t\\t\\n\\n\\n\\n\\t\\t\\t\\t\\t\\t\\t\\t\\t\\t\\t\\tFinisher\\n\\t\\t\\t\\t\\t\\t\\t\\t\\t\\t\\t\\n\\n\\n\\n\\t\\t\\t\\t\\t\\t\\t\\t\\t\\t\\t\\tRearer\\n\\t\\t\\t\\t\\t\\t\\t\\t\\t\\t\\t\\n\\n\\n\\n\\t\\t\\t\\t\\t\\t\\t\\t\\t\\t\\t\\tSheep\\n\\t\\t\\t\\t\\t\\t\\t\\t\\t\\t\\t\\n\\n\\n\\n\\n\\n\\n\\nJoin our precision livestock network\\n\\n\\n\\n\\n\\n\\n\\t\\t\\t\\t\\t\\t\\tSustainable Supply Chains\\n\\t\\t\\t\\t\\t\\t\\n\\n\\n\\n\\nSustainable Supply Chains\\n\\n\\n\\n\\t\\t\\t\\t\\t\\t\\t\\t\\t\\t\\t\\tGrass Fed\\n\\t\\t\\t\\t\\t\\t\\t\\t\\t\\t\\t\\n\\n\\n\\n\\t\\t\\t\\t\\t\\t\\t\\t\\t\\t\\t\\tDairy Beef\\n\\t\\t\\t\\t\\t\\t\\t\\t\\t\\t\\t\\n\\n\\n\\n\\n\\n\\n\\nJoin our precision livestock network\\n\\n\\n\\n\\n\\n\\n\\t\\t\\t\\t\\t\\t\\tAbout Us\\n\\t\\t\\t\\t\\t\\t\\n\\n\\n\\n\\nAbout Us\\n\\n\\n\\n\\t\\t\\t\\t\\t\\t\\t\\t\\t\\t\\t\\tVision and Team\\n\\t\\t\\t\\t\\t\\t\\t\\t\\t\\t\\t\\n\\n\\n\\n\\t\\t\\t\\t\\t\\t\\t\\t\\t\\t\\t\\tCareers\\n\\t\\t\\t\\t\\t\\t\\t\\t\\t\\t\\t\\n\\n\\n\\n\\t\\t\\t\\t\\t\\t\\t\\t\\t\\t\\t\\tOur Farmers\\n\\t\\t\\t\\t\\t\\t\\t\\t\\t\\t\\t\\n\\n\\n\\n\\t\\t\\t\\t\\t\\t\\t\\t\\t\\t\\t\\tEvents\\n\\t\\t\\t\\t\\t\\t\\t\\t\\t\\t\\t\\n\\n\\n\\n\\t\\t\\t\\t\\t\\t\\t\\t\\t\\t\\t\\tRefer a Friend\\n\\t\\t\\t\\t\\t\\t\\t\\t\\t\\t\\t\\n\\n\\n\\n\\n\\n\\n\\nJoin our precision livestock network\\n\\n\\n\\n\\n\\n\\n\\t\\t\\t\\t\\t\\t\\tNews\\n\\t\\t\\t\\t\\t\\t\\n\\n\\n\\n\\nNews\\n\\n\\n\\n\\t\\t\\t\\t\\t\\t\\t\\t\\t\\t\\t\\tLatest News and Insights\\n\\t\\t\\t\\t\\t\\t\\t\\t\\t\\t\\t\\n\\n\\n\\n\\n\\n\\n\\nJoin our precision livestock network\\n\\n\\n\\n\\n\\n\\n\\n\\n\\t\\t\\t\\t\\t\\t\\tPricing\\n\\t\\t\\t\\t\\t\\t\\n\\n\\n\\n\\n\\n\\n\\n\\n\\n\\n\\n\\n\\n\\n\\n\\n\\n\\n< Back to the blog\\n\\n\\n\\n\\n\\n\\n\\nsustainability,\\n            \\n          \\n           \\n            \\n            innovation\\n            \\n          \\n     \\n      \\n \\n          \\n• 2 mins read \\n\\nWhat are the new farming techniques for 2022 and beyond?\\n\\n\\n\\n\\n\\n\\nThe future of farming is changing all the time, with innovations and technologies being developed daily.\\n\\nDo you want to keep up to date with all the new farming techniques? Then you’ve come to the right place. In this blog, we’ll take you through new and existing farming processes to ensure sustainability and the success of your farm.\\n\\xa0\\n1. Regenerative farming\\nAs the climate crisis accelerates, you might be looking for more sustainable ways of working.\\xa0 That’s where regenerative farming comes in. It’s a concept that focuses on improving farmland and productivity by increasing biodiversity, enriching the soil and regenerating the land around you. Not only that, but it will reduce your input costs while maintaining production at the same time.\\nBy adopting this technique, you’ll experience many benefits, such as reduced emissions and increased cost savings for your business. In terms of emissions, healthier soil sequesters carbon dioxide, acting as a carbon sink and reducing greenhouse gas emissions.\\nHealthier soil is made up of good bacteria and fungi, contributing to increased fertility for crops and quality animal feed. Using artificial fertilisers costs money and can also damage the soil, so increasing soil biodiversity is a win-win.\\n\\xa0\\n2. Data-powered decision-making\\nData has an essential part to play in modern farming. Gathering and analysing data allows you to gain insights, understand your farm and animals better, evaluate profitability and ultimately make better-informed decisions.\\nSo, how can you collect and harness this data? The introduction of farm management apps has revolutionised the way farmers like you operate. You can map your farm, manage medicine distribution, weigh animals, trade livestock and so much more. Data gives you greater control to meet sustainability needs as farming becomes increasingly complex in the future.\\n\\xa0\\n3. Precision farming\\nThe likelihood is that you’ve already heard of precision farming. It combines technology with livestock and crop science to improve agricultural productivity. The method allows you to select and apply the correct input, at the right time, in the right place, for the best output.\\nPrecision farming is a sustainable method that helps address and alleviate many environmental, economic and productivity pressures. Statistics show that 80% of farms in England have adopted precision farming methods to increase productivity, around 50% to improve animal welfare and 40% to reduce environmental impact.\\nIt’s estimated that by 2026, the European precision farming market will be sized at 3.2 billion USD, showing it’s a strong method that’s likely to play a vital part in the future of farming.\\n\\xa0\\n4. Vertical farming\\nVertical farming is another technique that has gained traction in recent years. Crops and plants are grown in a soil-free, layered and vertical environment where lighting, irrigation, fertigation and climate are controlled to maximise efficiency and output. This maximises space vertically, rather than occupying many hectares of land to produce crops.\\nSo, what are the benefits of vertical farming? Not only will vertical farming save you large amounts of time tending to farmland, but it also opens the door to reduced water consumption, year-round crop production, less chemical use and lower carbon emissions.\\nIt’s a market projected to be worth $20 billion globally by 2026 — a potentially tempting figure to be involved in.\\n\\xa0\\n5. Micro farming\\nThere’s often the belief that the more land you have, the more money you make. Micro farming is a technique that’s proving this might not be the case.\\nMicro farming uses the latest technology such as aquaponics, automated irrigation, LED lighting and solar panels to boost productivity and profits. When paired with creative crop selection — for example, crops that can be re-sown several times throughout the season in the same plot of land — you can achieve maximum output on minimal land.\\xa0\\nHowever, this might not be the route to go down if you're already an established farmer. You’ll typically find micro farms in urban areas, although it might be something to consider if you want to diversify your business.\\n\\xa0\\n6. Autonomous tractors\\nRobotic milkers and feeders might have been commonplace on your farm for several years now, but autonomous tractors are taking things one step further.\\xa0\\nAs you’ll know, farming is highly labour intensive with little time to spare. This is the problem autonomous tractors are trying to solve. Self-driving tractors can automate some of the tasks that typically take up a lot of your time. As they’re often electric, they're better for the environment too. The result? Optimum output with fewer resources, increasing your overall productivity.\\n\\xa0\\n7. Invest in technology\\nAlthough this may seem obvious, investing in technology is crucial to support future farming techniques. Whether you’re looking to diversify your farm, enhance sustainability, reduce costs, increase productivity, save time or improve animal welfare, technology can help you do that.\\nRead more: Running a farm of the future – the high-tech approach to agriculture\\n\\xa0\\nCreating a profitable future for your farm\\nLooking for more where that came from? Then you’ve come to the right place. At Breedr, we understand that profitability is fundamental to the future of farming. To read more insightful resources and find out more, head to our profitability page.\\n\\n\\n\\n\\n\\n\\n\\n\\n\\n\\n\\nMore content for the forward thinking farmer\\nVisit the blog\\n\\n\\n\\n\\n\\n\\n\\nRevolutionising Livestock Supply Chains: How Breedr is Leading the Way\\nBreedr is a cutting-edge livestock management platform and is transforming the way farmers and...\\nFind out more\\n\\n\\n\\n\\n\\n\\n\\n\\nEarn £100 when you refer a friend! 🤠\\nFind out more\\n\\n\\n\\n\\n\\n\\n\\n\\nBreedr welcomes partnership with the Tenant...\\nFind out more\\n\\n\\n\\n\\n\\n\\n\\n\\n\\n\\n\\n\\nJoin our newsletter\\n\\n\\n\\n\\n\\n\\n\\n\\n\\n\\n\\n\\n\\n\\n\\n\\n\\n\\n\\n\\n\\n\\n\\nContact Us\\nJoin Breedr\\nShop\\nCareers\\n\\n\\n\\n\\nTools\\n\\n\\nLivestock App\\nLivestock Market\\nCashflow\\n\\n\\n\\n\\nBreedr integrates with:\\n\\n\\n\\n\\n\\n\\n\\n\\n\\n\\n\\n\\n\\n\\nPrivacy Policy\\nCookie Policy\\nTerms & Conditions\\nStandard Condition of Sale\\n\\n\\n\\n\\n\\n\\n\\n\\n\\n\\n\\n\\n\\n\\n\\n\\n\\n\\n\\n\\n\\n\\n\\n\\n\\n\\n\\n\\n\\n\\n\\n\\n\\n\\n\\n\\n\\n\\n\\n\\n\\n\\n\\n\\n\\n\\n\\n\\n\\n\\n\\n\\n\\n\\n \\n\\n\")]"
      ]
     },
     "execution_count": 12,
     "metadata": {},
     "output_type": "execute_result"
    }
   ],
   "source": [
    "urls=[\"https://www.breedr.co/news/what-are-the-new-farming-techniques\"]\n",
    "\n",
    "loader = WebBaseLoader(urls)\n",
    "docs = loader.load()\n",
    "docs"
   ]
  },
  {
   "cell_type": "code",
   "execution_count": 2,
   "metadata": {},
   "outputs": [],
   "source": [
    "big_text = \"\"\"**Vegetable Prices Soar, Protests Erupt in Southern India**\n",
    "\n",
    "*June 20, 2024 – The Daily Herald*\n",
    "\n",
    "*Chennai, India* – A wave of protests has swept across several southern Indian states in response to a sharp increase in vegetable prices, adding to the economic woes of millions already grappling with inflation. The recent surge in prices has exacerbated the financial strain on households, leading to widespread demonstrations in cities and rural areas alike.\n",
    "\n",
    "Over the past month, the cost of essential vegetables such as tomatoes, onions, and green chilies has risen by up to 60%. In Chennai, the price of tomatoes has skyrocketed from ₹30 per kilogram to ₹80 per kilogram, while onions now cost ₹50 per kilogram, up from ₹20. These price hikes have severely impacted daily budgets, especially for low- and middle-income families.\n",
    "\n",
    "Experts attribute the surge to a combination of factors, including unseasonal rains that have damaged crops, logistical disruptions, and increased transportation costs. The erratic weather patterns, linked to climate change, have led to crop failures in key agricultural regions, further straining the supply chain.\n",
    "\n",
    "As prices continue to climb, thousands of farmers, traders, and consumers have taken to the streets in protest. In Tamil Nadu, Karnataka, Kerala, and Andhra Pradesh, demonstrators have blocked highways, staged sit-ins, and organized marches, demanding immediate government intervention to stabilize prices and provide relief.\n",
    "\n",
    "In Chennai, the capital of Tamil Nadu, protesters gathered at Marina Beach, holding placards and chanting slogans against the state and central governments. \"The government must take swift action to control prices. We are struggling to feed our families,\" said Lakshmi, a homemaker who joined the protests.\n",
    "\n",
    "Farmers, too, are feeling the pinch. \"Our crops have been ruined by the unpredictable weather, and now we are being blamed for the high prices,\" said Rajendran, a farmer from Karnataka. \"We need support, not blame.\"\n",
    "\n",
    "The political response has been swift but varied. State governments have announced measures such as importing vegetables from other states and countries, subsidizing essential items, and setting up fair price shops. However, these steps have so far done little to alleviate the immediate pressure on consumers.\n",
    "\n",
    "The central government has also come under fire for its handling of the situation. Opposition parties have accused the ruling administration of neglecting the agricultural sector and failing to address the root causes of inflation. \"The government must take responsibility and act now to protect the livelihoods of millions,\" said Rahul Gandhi, leader of the Indian National Congress.\n",
    "\n",
    "Economists warn that without long-term solutions, such as improving agricultural infrastructure and adopting more sustainable farming practices, the volatility in vegetable prices is likely to continue. \"We need a comprehensive approach that addresses climate resilience, supply chain efficiency, and market regulation,\" said Dr. Arvind Subramanian, a leading agricultural economist.\n",
    "\n",
    "As the protests continue, there is growing pressure on authorities to find a resolution. For now, the soaring vegetable prices remain a stark reminder of the broader economic challenges facing the country.\n",
    "\n",
    "The Daily Herald will continue to monitor the situation and provide updates as more information becomes available.\n",
    "\n",
    "---\n",
    "\n",
    "*For more news and updates, follow The Daily Herald on Twitter @DailyHeraldIndia and visit our website at www.dailyheraldindia.com.*\"\"\""
   ]
  },
  {
   "cell_type": "code",
   "execution_count": 13,
   "metadata": {},
   "outputs": [],
   "source": [
    "from langchain.embeddings import HuggingFaceEmbeddings\n",
    "from langchain.vectorstores import FAISS\n",
    "from langchain.document_loaders import PyPDFLoader , DirectoryLoader\n",
    "from langchain.text_splitter import RecursiveCharacterTextSplitter"
   ]
  },
  {
   "cell_type": "code",
   "execution_count": 14,
   "metadata": {},
   "outputs": [
    {
     "name": "stdout",
     "output_type": "stream",
     "text": [
      "Data Chunks Created\n"
     ]
    }
   ],
   "source": [
    "# Initialize text splitter\n",
    "txt_splitter = RecursiveCharacterTextSplitter(\n",
    "    chunk_size=700,\n",
    "    chunk_overlap=400\n",
    ")\n",
    "\n",
    "# Split the loaded documents\n",
    "inp_txt = txt_splitter.split_documents(docs)\n",
    "\n",
    "print(\"Data Chunks Created\")"
   ]
  },
  {
   "cell_type": "code",
   "execution_count": 15,
   "metadata": {},
   "outputs": [
    {
     "name": "stdout",
     "output_type": "stream",
     "text": [
      "Embedding Created\n"
     ]
    }
   ],
   "source": [
    "hfembeddings = HuggingFaceEmbeddings(\n",
    "    model_name = \"thenlper/gte-large\",\n",
    "    model_kwargs = {'device':'cuda'}\n",
    ")\n",
    "print(\"Embedding Created\")"
   ]
  },
  {
   "cell_type": "code",
   "execution_count": 16,
   "metadata": {},
   "outputs": [
    {
     "name": "stdout",
     "output_type": "stream",
     "text": [
      "Vector Store Creation Completed and Stored Locally\n"
     ]
    }
   ],
   "source": [
    "from langchain_community.vectorstores import FAISS\n",
    "db = FAISS.from_documents(inp_txt,hfembeddings)\n",
    "db.save_local(r\"P:/college stuffs/mini project/Agri-Hub - Copy/datas/faiss/newweb-data/\")\n",
    "print(\"Vector Store Creation Completed and Stored Locally\")"
   ]
  },
  {
   "cell_type": "code",
   "execution_count": 7,
   "metadata": {},
   "outputs": [],
   "source": [
    "from langchain import PromptTemplate\n",
    "from langchain.embeddings import HuggingFaceEmbeddings\n",
    "from langchain.vectorstores import FAISS\n",
    "from langchain.llms import CTransformers , HuggingFaceHub\n",
    "from langchain.chains import RetrievalQA\n",
    "from langchain.callbacks.streaming_stdout import StreamingStdOutCallbackHandler"
   ]
  },
  {
   "cell_type": "code",
   "execution_count": 8,
   "metadata": {},
   "outputs": [],
   "source": [
    "PROMPT_TEMPLATE = '''\n",
    "With the information provided try to answer the question. \n",
    "If you cant answer the question based on the information either say you cant find an answer or unable to find an answer.\n",
    "So try to understand in depth about the context and answer only based on the information provided. Dont generate irrelevant answers\n",
    "\n",
    "Context: {context}\n",
    "Question: {question}\n",
    "Do provide only helpful answers\n",
    "\n",
    "Helpful answer:\n",
    "'''\n",
    "INP_VARS = ['context', 'question']\n",
    "custom_prompt_template = PromptTemplate(\n",
    "    template = PROMPT_TEMPLATE,\n",
    "    input_variables = INP_VARS\n",
    ")"
   ]
  },
  {
   "cell_type": "code",
   "execution_count": 9,
   "metadata": {},
   "outputs": [],
   "source": [
    "llm = CTransformers(\n",
    "    model = r\"D:\\agribot\\llama-2-7b-chat.ggmlv3.q4_1.bin\",\n",
    "    model_type=\"llama\",\n",
    "    max_new_tokens = 512,\n",
    "    temperature = 0.2,\n",
    "    callbacks=[StreamingStdOutCallbackHandler()],\n",
    "    gpu_layers=0\n",
    ")"
   ]
  },
  {
   "cell_type": "code",
   "execution_count": 10,
   "metadata": {},
   "outputs": [
    {
     "name": "stderr",
     "output_type": "stream",
     "text": [
      "d:\\newenv\\lib\\site-packages\\huggingface_hub\\file_download.py:1132: FutureWarning: `resume_download` is deprecated and will be removed in version 1.0.0. Downloads always resume when possible. If you want to force a new download, use `force_download=True`.\n",
      "  warnings.warn(\n"
     ]
    },
    {
     "name": "stdout",
     "output_type": "stream",
     "text": [
      "Embedding Created\n"
     ]
    }
   ],
   "source": [
    "hfembeddings = HuggingFaceEmbeddings(\n",
    "    model_name = \"thenlper/gte-large\",\n",
    "    model_kwargs = {'device':'cuda'}\n",
    ")\n",
    "print(\"Embedding Created\")"
   ]
  },
  {
   "cell_type": "code",
   "execution_count": 11,
   "metadata": {},
   "outputs": [],
   "source": [
    "vector_db = FAISS.load_local(r\"D:\\agribot\\faiss\\agri_web_data/\", hfembeddings,allow_dangerous_deserialization=True)"
   ]
  },
  {
   "cell_type": "code",
   "execution_count": 12,
   "metadata": {},
   "outputs": [],
   "source": [
    "retrieval_qa_chain = RetrievalQA.from_chain_type(\n",
    "                                llm=llm,\n",
    "                                chain_type=\"stuff\",\n",
    "                                retriever=vector_db.as_retriever(search_kwargs={'k': 1}),\n",
    "                                return_source_documents=True,\n",
    "                                chain_type_kwargs={\"prompt\": custom_prompt_template}\n",
    "                            )"
   ]
  },
  {
   "cell_type": "code",
   "execution_count": 14,
   "metadata": {},
   "outputs": [
    {
     "name": "stdout",
     "output_type": "stream",
     "text": [
      "The scope of this journal includes but is not limited to:\n",
      "1. Research on the impact of technology on society and culture\n",
      "2. Studies on the ethical implications of emerging technologies\n",
      "3. Analysis of the social, economic, and political aspects of technology\n",
      "4. Discussions on the role of technology in shaping the future of work and education\n",
      "5. Reviews of new and emerging technologies and their potential applications\n",
      "6. Critical examinations of the intersection of technology and other fields such as philosophy, psychology, and sociology\n",
      "7. Book reviews, literature reviews, and theoretical frameworks related to the field of technology and society\n",
      "8. Opinion pieces, editorials, and commentaries on current events and trends in the field\n",
      "9. Interviews with leading scholars, researchers, and innovators in the field.\n",
      "\n",
      "I cant answer this question because there is no clear answer from the information provided. The scope of the journal is not specified by category and also include discussion for books review and literature review, opinion piece and editorials. So it cannot be definedThe scope of this journal includes but is not limited to:\n",
      "1. Research on the impact of technology on society and culture\n",
      "2. Studies on the ethical implications of emerging technologies\n",
      "3. Analysis of the social, economic, and political aspects of technology\n",
      "4. Discussions on the role of technology in shaping the future of work and education\n",
      "5. Reviews of new and emerging technologies and their potential applications\n",
      "6. Critical examinations of the intersection of technology and other fields such as philosophy, psychology, and sociology\n",
      "7. Book reviews, literature reviews, and theoretical frameworks related to the field of technology and society\n",
      "8. Opinion pieces, editorials, and commentaries on current events and trends in the field\n",
      "9. Interviews with leading scholars, researchers, and innovators in the field.\n",
      "\n",
      "I cant answer this question because there is no clear answer from the information provided. The scope of the journal is not specified by category and also include discussion for books review and literature review, opinion piece and editorials. So it cannot be defined\n"
     ]
    }
   ],
   "source": [
    "user_input = \"What scopes of this journel?\"\n",
    "prompt = {'query': user_input}\n",
    "model_out = retrieval_qa_chain(prompt)\n",
    "answer = model_out['result']\n",
    "print(answer)"
   ]
  },
  {
   "cell_type": "code",
   "execution_count": null,
   "metadata": {},
   "outputs": [],
   "source": []
  }
 ],
 "metadata": {
  "kernelspec": {
   "display_name": "Python 3",
   "language": "python",
   "name": "python3"
  },
  "language_info": {
   "codemirror_mode": {
    "name": "ipython",
    "version": 3
   },
   "file_extension": ".py",
   "mimetype": "text/x-python",
   "name": "python",
   "nbconvert_exporter": "python",
   "pygments_lexer": "ipython3",
   "version": "3.10.14"
  }
 },
 "nbformat": 4,
 "nbformat_minor": 2
}
